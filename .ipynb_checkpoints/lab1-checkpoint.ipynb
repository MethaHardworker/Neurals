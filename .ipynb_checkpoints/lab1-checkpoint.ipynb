{
 "cells": [
  {
   "cell_type": "code",
   "execution_count": 10,
   "id": "4d463914-f9f9-4d5b-8d04-dcfba99d3669",
   "metadata": {},
   "outputs": [],
   "source": [
    "import numpy as np"
   ]
  },
  {
   "cell_type": "code",
   "execution_count": 11,
   "id": "79fa0240-1952-44c7-9ab3-6fa4b3f85e82",
   "metadata": {},
   "outputs": [],
   "source": [
    "def idf(x):\n",
    "    return x\n",
    "def heavySide(x):\n",
    "    return 0 if x < 0 else 1\n",
    "def sigmoid(x):\n",
    "    return 1 / (1 + np.exp(-x))\n",
    "def tanh(x):\n",
    "    return np.tanh(x)\n",
    "def atan(x):\n",
    "    return np.atan(x)\n",
    "def softsign(x):\n",
    "    return x / (1 + np.abs(x))"
   ]
  },
  {
   "cell_type": "code",
   "execution_count": 20,
   "id": "98f0315a-f0a4-467a-bdb7-8f9039b79328",
   "metadata": {},
   "outputs": [],
   "source": [
    "class Neuron:\n",
    "    def __init__(self, func):\n",
    "        self.w = np.array([0.6, -0.4])\n",
    "        self.b = 0.3\n",
    "        self.f = func\n",
    "\n",
    "    def __call__(self, x):\n",
    "        return self.f(np.dot(x, self.w) + self.b) "
   ]
  },
  {
   "cell_type": "code",
   "execution_count": 21,
   "id": "de45eb8d-fdfc-4a53-8c95-715a6997c659",
   "metadata": {},
   "outputs": [
    {
     "name": "stdout",
     "output_type": "stream",
     "text": [
      "0.8999999999999999\n",
      "1\n",
      "0.7109495026250039\n",
      "0.7162978701990244\n",
      "0.7328151017865066\n",
      "0.47368421052631576\n"
     ]
    }
   ],
   "source": [
    "nns = [Neuron(idf), Neuron(heavySide), Neuron(sigmoid), Neuron(tanh), Neuron(atan), Neuron(softsign)]\n",
    "x = np.array([1,0])\n",
    "for neuron in nns:\n",
    "    print(neuron(x))"
   ]
  },
  {
   "cell_type": "code",
   "execution_count": null,
   "id": "da438482-3deb-428e-bf7c-85dab1a1cdbe",
   "metadata": {},
   "outputs": [],
   "source": []
  }
 ],
 "metadata": {
  "kernelspec": {
   "display_name": "Python 3.12",
   "language": "python",
   "name": "python3.12"
  },
  "language_info": {
   "codemirror_mode": {
    "name": "ipython",
    "version": 3
   },
   "file_extension": ".py",
   "mimetype": "text/x-python",
   "name": "python",
   "nbconvert_exporter": "python",
   "pygments_lexer": "ipython3",
   "version": "3.10.11"
  }
 },
 "nbformat": 4,
 "nbformat_minor": 5
}
